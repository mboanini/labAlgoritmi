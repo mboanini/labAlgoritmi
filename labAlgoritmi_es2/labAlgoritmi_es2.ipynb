{
 "cells": [
  {
   "cell_type": "markdown",
   "id": "417ba313",
   "metadata": {},
   "source": [
    "<div align=right>Margherita Boanini (7051199) </div>"
   ]
  },
  {
   "cell_type": "markdown",
   "id": "cab57eed",
   "metadata": {},
   "source": [
    "# Laboratorio di Algoritmi\n",
    "## Confronto tra gli algoritmi Selection Sort e Merge Sort"
   ]
  },
  {
   "cell_type": "markdown",
   "id": "cb0e321f",
   "metadata": {},
   "source": [
    "### Indice\n",
    "* [**Introduzione**](#introduzione)\n",
    "* [**Teoria**](#teoria)\n",
    "    * [Analisi di un algoritmo](#analisiAlg)\n",
    "    * [Il metodo divide et impera](#divideEtImpera)\n",
    "    * [Merge sort](#mergeSort)\n",
    "        * [Correttezza](#correttezzaMerge)\n",
    "        * [Stabilità](#stabilitàMerge)\n",
    "        * [Complessità](#complessitàMerge)\n",
    "    * [Selection sort](#selectionSort)\n",
    "        * [Correttezza](#correttezzaSel)\n",
    "        * [Stabilità](#complessitàSel)\n",
    "        * [Complessità](#stabilitàSel)\n",
    "* [**Test**](#test)\n",
    "    * [Descrizione dei test eseguiti](#descrizione)\n",
    "    * [Generazione dei dati in ingresso](#input)\n",
    "    * [Esecuzione dei test](#esecuzione)\n",
    "* [**Tabelle**](#tabelle)\n",
    "* [**Grafici**](#grafici)\n",
    "* [**Conclusioni**](#conclusioni)\n",
    "* [**Bibliografia**](#bibliografia)"
   ]
  },
  {
   "cell_type": "markdown",
   "id": "e397238c",
   "metadata": {},
   "source": [
    "## Introduzione <a id=\"introduzione\"></a>\n",
    "\n",
    "Il problema dell'ordinamento di un insieme è un problema fondamentale nell'ambito dell'informatica e dell'analisi degli algoritmi:<br>\n",
    "> Dato in ingresso un insieme di *n* numeri $\\{a_1, a_2,..., a_n\\}$, trovare un'opportuna permutazione $\\{a'_1, a'_2,...,a'_n\\}$ tale che $a'_1 \\leq a'_2 \\leq ... \\leq a'_n$.<br> \n",
    "\n",
    "L'obiettivo principale dell'ordinamento è quello di ottenere una rappresentazione ordinata dei dati, facilitando le operazioni di ricerca, confronto e analisi.\n",
    "Esiste una grande quantità di algoritmi che permettono di risolvere tale problema e sebbene siano algoritmi progettati per risolvere lo stesso problema spesso sono notevolemente diversi nella loro efficienza.  <br>\n",
    "\n",
    "In seguito ne esamineremo due in particolare: selection sort e merge sort, con l'obiettivo di verificare i vantaggi e gli svantaggi di entrambi. <br>\n",
    "\n",
    "Nello studio degli algoritmi, andremo ad utilizzare dei moduli Python, importanti da ricordare: <br>\n",
    " - <code>numpy</code>  $\\rightarrow$ per generare array con valori casuali (funzione utilizzata <code>numpy.random.randint()</code>).\n",
    " - <code>matplotlib</code> $\\rightarrow $ per creare grafici e tabelle al fine di analizzare visivamente le prestazioni dei due algoritmi (funzioni utilizzate: <code>matplotlib.pyplot.plot()</code> e <code>matplotlib.pyplot.table()</code>)."
   ]
  },
  {
   "cell_type": "markdown",
   "id": "fc06faad",
   "metadata": {},
   "source": [
    "Per installarli va eseguito il codice:"
   ]
  },
  {
   "cell_type": "code",
   "execution_count": 1,
   "id": "9ebe5c14",
   "metadata": {},
   "outputs": [],
   "source": [
    "!pip install numpy --user --quiet\n",
    "!pip install matplotlib --user --quiet"
   ]
  },
  {
   "cell_type": "markdown",
   "id": "4e1e47fc",
   "metadata": {},
   "source": [
    "## Caratteristiche teoriche <a id=\"teoria\"></a>"
   ]
  },
  {
   "cell_type": "markdown",
   "id": "a7f306bc",
   "metadata": {},
   "source": [
    "### Analisi di un algoritmo <a id=\"analisiAlg\"></a>\n",
    "\n",
    "Un algoritmo si dice **stabile** se è in grado di fornire in output risultati attendibili quando l'insieme dei dati in input cambia, sia come valori sia come quantità di dati iniziali e se la propagazione di errori dovuta ai calcoli è limitata e controllabile a priori. Gli algoritmi di ordinamento si ritengono stabili se non alterano l'ordine relativo di oggetti distinti che sono uguali rispetto alla relazione d'ordine.\n",
    "<br><br>\n",
    "Un algoritmo si dice **corretto** se, per ogni istanza di input, termina con l'output giusto. \n",
    "Per dimostrare la correttezza di algoritmi iterativi si usa spesso un invariante di ciclo. Diciamo che un algoritmo corretto risolve il problema computazionale dato.\n",
    "<br><br>\n",
    "La **complessità** di un algoritmo rappresenta l'analisi delle risorse impiegate da esso per risolvere un problema, in funzione della dimensione e del tipo di input. \n",
    "Le risorse considerate principalmente sono il tempo (utilizzato per completare l'algoritmo), lo spazio (la quantità di memoria utilizzata) e la banda (la quantità di bit spediti). Noi ci concentreremo sulla complessità temporale. <br>\n",
    "\n",
    "|Algoritmo|Caso migliore|Caso medio| Caso peggiore|\n",
    "|:---:|:---:|:---:|:---:|\n",
    "|**SelectionSort**| $O(n^2)$ | $O(n^2)$ | $O(n^2)$ |\n",
    "|**InsertionSort**| $O(n)$ | $O(n^2)$ | $O(n^2)$ |\n",
    "|**BubbleSort**| $O(n)$ | $O(n^2)$ | $O(n^2)$ |\n",
    "|**MergeSort** | $O(nlog_2n)$ | $O(nlog_2n)$ | $O(nlog_2n)$ |\n",
    "|**QuickSort** | $O(nlog_2n)$ | $O(nlog_2n)$ | $O(n^2)$ |\n",
    "|**HeapSort** | $O(nlog_2n)$ | $O(nlog_2n)$ | $O(nlog_2n)$ |\n",
    "\n",
    "<br>\n",
    "Il problema di ordinare una sequenza di <i>n</i> elementi ha una delimitazione inferiore di complessità pari a $nlog_2(n)$. Algoritmi ottimi sono di tipo $O(nlog_2(n))$."
   ]
  },
  {
   "cell_type": "markdown",
   "id": "00037015",
   "metadata": {},
   "source": [
    "### Il metodo divide et impera <a id=\"divideEtImpera\"></a>\n",
    "\n",
    "Gli algoritmi ricorsivi sono algoritmi che chiamano se stessi in modo ricorsivo, una o più volte, per trattare sottoproblemi dello stesso tipo e risolvere così un determinato problema. Gli algoritmi ricorsivi, generalmente, adottano un approccio **divide et impera**, che prevede tre passi a ogni livello di ricorsione:\n",
    " - Divide: il problema viene diviso in un certo numero di sottoproblemi, che sono istanze più piccole dello stesso problema. \n",
    " - Impera: i sottoproblemi vengono risolti in modo ricorsivo; quando i sottoproblemi hanno una dimensione sufficientemente piccola, essi vengono risolti direttamente.\n",
    " - Combina: le soluzioni dei sottoproblemi vengono combinate per generare la soluzione del problema originale. "
   ]
  },
  {
   "cell_type": "markdown",
   "id": "c4b0ab8f",
   "metadata": {},
   "source": [
    "### Merge Sort <a id=\"mergeSort\"></a>\n",
    "\n",
    "L'algoritmo **Merge Sort** è un algoritmo di ordinamento basato su confronti che utilizza un processo di risoluzione ricorsivo, sfruttando la tecnica del divide et impera. Opera nel modo seguente:\n",
    "- Divide: divide la sequenza degli $n$ elementi da ordinare, $A[p...r]$ in due sottosequenze di $n/2$ elementi ciascuna, $A[p...q]$ e $A[q+1...r]$, dove $q$ è il punto di mezzo di $A[p..r]$.\n",
    "- Impera: ordina le due sottosequenze, $A[p...q]$ e $A[q+1...r]$, in modo ricorsivo utilizzando l'algoritmo Merge Sort.\n",
    "- Combina: fonde le due sottosequenze ordinate, $A[p...q]$ e $A[q+1...r]$, per generare una singola sequenza ordinata, $A[p...r]$. \n",
    "\n",
    "La ricorsione si ferma quando la sequenza da ordinare ha lunghezza 1, poiché una sequenza di tale lunghezza è già ordinata. \n",
    "L'operazione chiave dell'algoritmo Merge Sort è la fusione delle due sottosequenze ordinate nel passo \"combina\". Per effettuare la fusione utilizziamo una procedura ausiliaria $merge(A,p,q,r)$, dove $A$ è un array e $p,q$ e $r$ sono indici dell'array tali che $p\\leq q<r$. La procedura assume che i sottoarray $A[p..q]$ e $A[q+1..r]$ siano ordinati; li fonde per formare un unico sottoarray ordinato che sostituisce il sottoarray corrente $A[p..r]$. \n",
    "\n",
    "La procedura $merge$ impiega un tempo $\\Theta(n)$ dove $n = r-p+1$ è il numero totale di elementi da fondere."
   ]
  },
  {
   "cell_type": "code",
   "execution_count": 2,
   "id": "cd633daa",
   "metadata": {},
   "outputs": [],
   "source": [
    "# Implementazione di Merge Sort \n",
    "def merge(A, p, q, r):\n",
    "    n1 = q - p + 1\n",
    "    n2 = r - q\n",
    " \n",
    "    # crea due array temporanei\n",
    "    L = [0] * (n1)\n",
    "    R = [0] * (n2)\n",
    " \n",
    "    # Copia i dati negli array L[] e R[]\n",
    "    for i in range(0, n1):\n",
    "        L[i] = A[p + i]\n",
    " \n",
    "    for j in range(0, n2):\n",
    "        R[j] = A[q + 1 + j]\n",
    " \n",
    "    # Fonde gli array temporanei in A[p..r]\n",
    "    i = 0\n",
    "    j = 0     \n",
    "    k = p\n",
    " \n",
    "    while i < n1 and j < n2:\n",
    "        if L[i] <= R[j]:\n",
    "            A[k] = L[i]\n",
    "            i += 1\n",
    "        else:\n",
    "            A[k] = R[j]\n",
    "            j += 1\n",
    "        k += 1\n",
    " \n",
    "    # Copia gli elementi rimanenti di L[], se ce ne sono\n",
    "    while i < n1:\n",
    "        A[k] = L[i]\n",
    "        i += 1\n",
    "        k += 1\n",
    " \n",
    "    # Copia gli elementi rimanenti di R[], se ce ne sono\n",
    "    while j < n2:\n",
    "        A[k] = R[j]\n",
    "        j += 1\n",
    "        k += 1\n",
    "\n",
    " \n",
    "def mergeSortRecursive(A, p, r):\n",
    "    if p < r:\n",
    "        q= p+(r-p)//2\n",
    " \n",
    "        mergeSortRecursive(A, p, q)\n",
    "        mergeSortRecursive(A, q + 1, r)\n",
    "        merge(A, p, q, r)\n",
    "        \n",
    "def mergeSort(A: list):\n",
    "    r = len(A)\n",
    "    mergeSortRecursive(A, 0, r-1)"
   ]
  },
  {
   "cell_type": "markdown",
   "id": "f9c9b3f9",
   "metadata": {},
   "source": [
    "|<img src=\"https://www.programiz.com/sites/tutorial2program/files/merge-sort-example_0.png\" width=\"300\" height=\"250\">|\n",
    "|:---:|\n",
    "| Esempio di applicazione di mergeSort *(Figura 1)*|\n",
    "\n",
    "\n",
    "<br>\n",
    "\n",
    "Dunque, in pratica si spezza l'array in due parti di ugual dimensione, si ordinano separatamente queste due parti (chiamata ricorsiva), si fondono i due sottoarray ordinati così ottenuti in modo da ottenere un unico array ordinato. Il mergesort non è un algoritmo di ordinamento sul posto: oltre ad essere ricorsivo (e quindi occupare spazio sullo stack) è necessario un array ausiliare."
   ]
  },
  {
   "cell_type": "markdown",
   "id": "59f22ff5",
   "metadata": {},
   "source": [
    "#### Correttezza <a id=\"correttezzaMerge\"></a>\n",
    "\n",
    "Si può dimostrare la correttezza di Merge Sort per induzione su <i>n</i>. Se <i>n</i> = 2 è corretto, supponiamo che sia corretto per tutti gli array con meno di <i>n</i> elementi. Sia A un array con <i>n</i> > 1 elementi ed eseguiamo l'algoritmo. Le due chiamate agiscono su un numero di elementi che è circa la metà di <i>n</i>, quindi per queste chiamate vale l'ipotesi induttiva: i due sottoarray sono ordinati al termine dell'esecuzione. Inoltre, per verificare la correttezza della procedura <code>merge</code> possiamo utilizzare l'invariante di ciclo. Dunque, Merge Sort è un algoritmo corretto."
   ]
  },
  {
   "cell_type": "markdown",
   "id": "cc1f9edc",
   "metadata": {},
   "source": [
    "#### Stabilità <a id=\"stabilitàMerge\"></a>\n",
    "\n",
    "Merge Sort è un algoritmo stabile. Quando ci sono elementi con la stessa chiave infatti, Merge Sort assegna loro posizioni nell'array ordinato, che rispettano l'ordine in cui compaiono nell'array di input. E' fondamentale l'istruzione <code>if L[i] <= R[j]</code>, in cui l'uguale permette di scegliere sempre per primo l'elemento di sinistra, ossia quello che, precedentemente all'ordinamento, veniva prima di un altro elemento, eventualmente con chiave uguale."
   ]
  },
  {
   "cell_type": "markdown",
   "id": "93fdb145",
   "metadata": {},
   "source": [
    "#### Complessità <a id=\"complessitàMerge\"></a>\n",
    "\n",
    "L'algoritmo Merge Sort, per ordinare una sequenza di $n$ elementi, ha complessità temporale $T(n) = \\Theta(nlogn)$ sia nel caso medio che nel caso peggiore. Infatti:\n",
    "- la funzione <code>merge</code> ha complessità temporale $\\Theta(n)$:\n",
    "    oltre alle righe in cui si ha un tempo costante, vi sono solo i due cicli for, che servono per copiare il sottoarray $A[p..q]$ in $L[0..n_1-1]$ e il sottoarray $A[q+1..r]$ in $R[0..n_2-1]$, che impiegano un tempo $\\Theta(n_1+n_2) = \\Theta(n)$.\n",
    "- <code>mergeSortRecursive</code> invece richiama se stessa due volte e ogni volta su (circa) metà della sequenza in input.\n",
    "\n",
    "Dunque il tempo di esecuzione dell'algoritmo è dato dalla ricorrenza: \n",
    "    $T(n) =\\left \\{ \\begin{array}{rl}\n",
    "    \\Theta(1)\\ \\ \\ \\ \\ \\ \\ \\ \\ \\ \\ \\ \\ \\ \\ \\ \\ \\ \\ se\\ n=1\\\\\n",
    "    2T(n/2) + \\Theta(n)\\ \\ \\ se\\ n>1\n",
    "    \\end{array}\n",
    "    \\right.$\n",
    "\n",
    "<br>\n",
    "Grazie al \"teorema dell'esperto\" si può dimostrare che $T(n)$ è $\\Theta(nlgn)$.\n",
    "Il caso migliore si ha con un array ordinato già in partenza, ma la complessità rimane la stessa."
   ]
  },
  {
   "cell_type": "markdown",
   "id": "8c25b748",
   "metadata": {},
   "source": [
    "### Selection Sort <a id=\"selectionSort\"></a>\n",
    "\n",
    "**Selection Sort** è un algoritmo di ordinamento che, in ogni iterazione, seleziona l'elemento più piccolo da una lista non ordinata e lo posiziona all'inizio della stessa. L'algoritmo mantiene due sottoarray in un unico array dato. E' un algoritmo che ordina sul posto.\n",
    "\n",
    "<u>Funzionamento</u>:\n",
    "1. Imposta il primo elemento come <code>minimum</code>\n",
    "2. Confronta il <code>minimum</code> con il secondo elemento. Se il secondo elemento è minore del <code>minimum</code>, imposta il secondo elemento come <code>minimum</code>. \n",
    "    Confronta il <code>minimum</code> con il terzo elemento. Di nuovo, se il terzo elemento è minore, allora assegna il <code>minimum</code> al terzo elemento, altrimenti non fa nulla. Il processo va avanti fino all'ultimo elemento.\n",
    "3. Dopo ogni iterazione, il <code>minimum</code> è posizionato in cima alla lista non ordinata.\n",
    "4. Per ogni iterazione, l'indicizzazione inizia dal primo elemento non ordinato. I passaggi dal primo al terzo sono ripetuti finché tutti gli elementi non sono posizionati nella loro posizione corretta.\n",
    "\n",
    "<br>\n",
    "\n",
    "|<img src=\"https://www.programiz.com/sites/tutorial2program/files/Selection-sort-0-initial-array.png\" width=\"200\" height=\"100\" >|<img src=\"https://www.programiz.com/sites/tutorial2program/files/Selection-sort-0-comparision.png\" width=\"200\" height=\"100\"> |\n",
    "|:---:|:---:|\n",
    "| 1. Select first element as minimum | 2. Compare minimum with the remaining elements |\n",
    "\n",
    "|<img src=\"https://www.programiz.com/sites/tutorial2program/files/Selection-sort-0-swapping.png\" width=\"200\" height=\"100\" >|<img src=\"https://www.programiz.com/sites/tutorial2program/files/Selection-sort-0.png\" width=\"200\" height=\"100\"> |\n",
    "|:---:|:---:|\n",
    "| 3. Swap the first with minimum |  4. The first iteration|\n",
    "\n",
    "|<img src=\"https://www.programiz.com/sites/tutorial2program/files/Selection-sort-1.png\" width=\"200\" height=\"100\" >|<img src=\"https://www.programiz.com/sites/tutorial2program/files/Selection-sort-2.png\" width=\"200\" height=\"100\"> |\n",
    "|:---:|:---:|\n",
    "| 4. The second iteration | 4. The third iteration|\n",
    "\n",
    "|<img src=\"https://www.programiz.com/sites/tutorial2program/files/Selection-sort-3_1.png\" width=\"200\" height=\"100\" >|\n",
    "|:---:|\n",
    "| 4. The fourth iteration | "
   ]
  },
  {
   "cell_type": "markdown",
   "id": "a679b645",
   "metadata": {},
   "source": [
    "---\n",
    "<div align=\"center\"> Esempio di applicazione di Selection Sort <i>(Figura 2)</i> </div>"
   ]
  },
  {
   "cell_type": "code",
   "execution_count": 3,
   "id": "b411c9e9",
   "metadata": {},
   "outputs": [],
   "source": [
    "# Implementazione del Selection Sort\n",
    "def selectionSort(A: list):\n",
    "    n = len(A)\n",
    "    \n",
    "    for i in range(n):\n",
    "        min_idx = i\n",
    "\n",
    "        for j in range(i + 1, n):\n",
    "            if A[j] < A[min_idx]:\n",
    "                min_idx = j\n",
    "        tmp = A[i]\n",
    "        A[i] = A[min_idx]\n",
    "        A[min_idx] = tmp"
   ]
  },
  {
   "cell_type": "markdown",
   "id": "d281d7a4",
   "metadata": {},
   "source": [
    "|<img src=\"https://upload.wikimedia.org/wikipedia/commons/thumb/9/94/Selection-Sort-Animation.gif/60px-Selection-Sort-Animation.gif\">|\n",
    "|:---:|\n",
    "| Rappresentazione animata del funzionamento di Selection Sort in esecuzione su un array *(Figura 3)*|"
   ]
  },
  {
   "cell_type": "markdown",
   "id": "833d2c87",
   "metadata": {},
   "source": [
    "#### Correttezza <a id=\"correttezzaSel\"></a>\n",
    "\n",
    "Essendo un algoritmo iterativo, la correttezza del Selection Sort è dimostrabile tramite l'utilizzo dell'invariante di ciclo. "
   ]
  },
  {
   "cell_type": "markdown",
   "id": "f265e756",
   "metadata": {},
   "source": [
    "#### Stabilità <a id=\"stabilitàSel\"></a>\n",
    "\n",
    "Il selection sort non è un algoritmo stabile, poiché può invertire l'ordine di elementi della stessa chiave. "
   ]
  },
  {
   "cell_type": "markdown",
   "id": "8e93fd94",
   "metadata": {},
   "source": [
    "#### Complessità <a id=\"complessitàSel\"></a>\n",
    "\n",
    "Dal punto di vista delle operazioni svolte, non esiste un caso particolarmente favorevole, o al contrario, particolarmente sfavorevole: l'algoritmo esegue lo stesso numero di operazioni qualunque sia la configurazione iniziale dell'array. \n",
    "Ad ogni iterazione del ciclo più esterno, il ciclo più interno esegue esattamente $n-i$ confronti. La prima volta si cerca su n-1 elementi, la seconda su n-2, la terza su n-3 e così via... Il numero totale di confronti è:<br>\n",
    "$\\sum_{i=1}^{n-1} n-i = \\sum_{j=1}^{n-1} j = \\frac{n(n-1)}{2} = O(n^2) $ <br>\n",
    "Dunque il selection sort ha complessità temporale, per tutti i casi, quadratica. Ossia $T(n) = \\Theta(n^2)$."
   ]
  },
  {
   "cell_type": "markdown",
   "id": "d3533556",
   "metadata": {},
   "source": [
    "## Test <a id=\"test\"></a>"
   ]
  },
  {
   "cell_type": "markdown",
   "id": "73e9231b",
   "metadata": {},
   "source": [
    "### Descrizione dei test eseguiti <a id=\"descrizione\"></a>\n",
    "\n",
    "Sia per Merge Sort che per Selection Sort:\n",
    "* il caso migliore si verifica quando l'array in input è già ordinato;\n",
    "* il caso peggiore si verifica quando bisogna ordinare in ordine crescente un array ordinato inversamente; \n",
    "* il caso medio si verifica quando gli elementi dell'array in input sono in ordine casuale, senza un chiaro schema ascendente o discendente. \n",
    "\n",
    "<br>\n",
    "Vedremo però che i dati in ingresso non influiscono sulle prestazioni, poiché la complessità di entrambi gli algoritmi, rimane costante in tutti i casi. <br>\n",
    "I test di ordinamento verranno eseguiti su un insieme di <i>n</i> valori, con <i>n</i> che varia da 1 a 5000. Per ciascun test verranno eseguite più prove, generando input diversi e verrà calcolato il tempo di esecuzione medio di ogni gruppo di prove.\n",
    "<br><br>\n",
    "Eseguiremo prima l'algoritmo Merge Sort, seguito da Selection Sort, poiché quest'ultimo è un algoritmo che ordina sul posto, quindi sull'array in input. Se facessimo il contrario, invertendo l'ordine delle chiamate, Merge Sort riceverebbe sempre in ingresso un array già ordinato."
   ]
  },
  {
   "cell_type": "markdown",
   "id": "036b0da8",
   "metadata": {},
   "source": [
    "### Generazione dei dati in ingresso <a id=\"input\"></a>\n",
    "\n",
    "Per generare gli array di input, vengono utilizzate le funzioni:\n",
    "1. <code>randomArray(n)</code>, che riceve in ingresso un intero <i>n</i> come parametro e genera un array di <i>n</i> valori casuali compresi tra $0$ e $maxValue$.\n",
    "2. <code>sortedArray(n)</code> e <code>reversedArray(n)</code>, che generano array di <i>n</i> elementi, ordinati in modo crescente e descrescente, rispettivamente."
   ]
  },
  {
   "cell_type": "code",
   "execution_count": 4,
   "id": "e38f8988",
   "metadata": {},
   "outputs": [],
   "source": [
    "import numpy as np\n",
    "\n",
    "#Valore massimo che può essere inserito nell'array\n",
    "maxValue = 300\n",
    "\n",
    "#Array di numeri casuali\n",
    "def randomArray(n):\n",
    "    return np.random.randint(0, maxValue+1, n).tolist()\n",
    "\n",
    "#Array ordinato (crescente)\n",
    "def sortedArray(n):\n",
    "    return list(range(n))\n",
    "\n",
    "#Array ordinato inversamente\n",
    "def reversedArray(n):\n",
    "    return list(range(n-1,-1, -1))"
   ]
  },
  {
   "cell_type": "markdown",
   "id": "43723027",
   "metadata": {},
   "source": [
    "### Esecuzione dei test <a id=\"esecuzione\"></a>\n",
    "\n",
    "I test sono ripetuti <i>n</i> volte. Ad ogni iterazione, viene generato un array di <i>i</i> elementi, che poi viene ordinato tramite i due algoritmi in analisi. \n",
    "Per misurare il tempo di esecuzione degli algoritmi <code>mergeSort(A:list)</code> e <code>selectionSort(A:list)</code>, è utilizzata la funzione <code>timeit.timeit()</code>, che esegue l'algoritmo passato in ingresso un numero di volte pari a <code>nrTestPerIteration</code> (definito dal parametro <code>number</code>) e restituisce il tempo totale trascorso durante tutte le esecuzioni. Tale valore viene poi diviso per <code>nrTestPerIteration</code> e moltiplicato per 1000, per calcolare la media dei tempi ottenuti in millisecondi."
   ]
  },
  {
   "cell_type": "code",
   "execution_count": null,
   "id": "dbc7bdb2",
   "metadata": {},
   "outputs": [],
   "source": [
    "import timeit\n",
    "\n",
    "n = 3000\n",
    "block_size = 100\n",
    "nrTestPerIteration = 100 \n",
    "\n",
    "mergeSortWorst = []\n",
    "selectionSortWorst = []\n",
    "\n",
    "mergeSortAverage = []\n",
    "selectionSortAverage = []\n",
    "\n",
    "mergeSortBest = []\n",
    "selectionSortBest = []\n",
    "\n",
    "\n",
    "def measureTime(function, args):\n",
    "    return timeit.timeit(stmt=lambda: function(args), number=nrTestPerIteration) / nrTestPerIteration * 1000\n",
    "\n",
    "\n",
    "# Caso peggiore\n",
    "for i in range(1, n, block_size):\n",
    "    arrayTest = reversedArray(i)\n",
    "    # Test sul merge sort\n",
    "    mergeSortWorst.append(measureTime(mergeSort, arrayTest))\n",
    "    # Test sul selection sort\n",
    "    selectionSortWorst.append(measureTime(selectionSort, arrayTest))\n",
    "\n",
    "# Caso medio\n",
    "for i in range(1, n, block_size):\n",
    "    arrayTest = randomArray(i)\n",
    "    # Test sul merge sort\n",
    "    mergeSortAverage.append(measureTime(mergeSort, arrayTest))\n",
    "    # Test sul selection sort\n",
    "    selectionSortAverage.append(measureTime(selectionSort, arrayTest))\n",
    "\n",
    "# Caso migliore\n",
    "for i in range(1, n, block_size):\n",
    "    arrayTest = sortedArray(i)\n",
    "    # Test sul merge sort\n",
    "    mergeSortBest.append(measureTime(mergeSort, arrayTest))\n",
    "    # Test sul selection sort\n",
    "    selectionSortBest.append(measureTime(selectionSort, arrayTest))\n",
    "\n",
    "print(\"END, DEBUG\")"
   ]
  },
  {
   "cell_type": "markdown",
   "id": "65719c5e",
   "metadata": {},
   "source": [
    "## Tabelle <a id=\"tabelle\"></a>\n",
    "\n",
    "Di seguito vengono generate le tabelle, in cui sono riportati i tempi di esecuzione dei due algoritmi nei tre casi."
   ]
  },
  {
   "cell_type": "code",
   "execution_count": null,
   "id": "d5118fb9",
   "metadata": {
    "scrolled": false
   },
   "outputs": [],
   "source": [
    "import matplotlib.pyplot as plt\n",
    "\n",
    "# Prende in input una lista di colonne di dati, una tupla di intestazioni e un titolo \n",
    "def drawTables(columns: list, headers: tuple, title: str):\n",
    "    fig, ax = plt.subplots(figsize=(8, 11))\n",
    "    plt.title(title)\n",
    "\n",
    "    # Unisci le liste di dati come colonne al fine di creare un array bidimensionale di dati: 'data'\n",
    "    data = np.stack(tuple(columns), axis=1) \n",
    "\n",
    "    # Stile tabella\n",
    "    ax.axis('off')\n",
    "    table = ax.table(cellText=data, colLabels=headers, loc='center', cellLoc='center')\n",
    "    table.auto_set_column_width(col=list(range(len(columns))))\n",
    "    table.scale(1, 1.5)\n",
    "\n",
    "    cell_colors = {\n",
    "        cell: (\"#c1d6ff\", {\"weight\": \"bold\"})\n",
    "        if table[cell].get_text().get_text() in headers\n",
    "        else (\"#deebff\", {})\n",
    "        for cell in table._cells\n",
    "        if cell[0] % 2 == 0\n",
    "    }\n",
    "    for cell, (color, text_props) in cell_colors.items():\n",
    "        # imposta il colore della cella\n",
    "        table[cell].set_facecolor(color)\n",
    "        # imposta le proprietà del testo della cella\n",
    "        table[cell].set_text_props(**text_props)\n",
    "    plt.show()\n",
    "\n",
    "# Generazione tabella: tempi di esecuzione caso peggiore\n",
    "resultWorstCase = [\n",
    "    [i for i in range(1, n, block_size)],\n",
    "    [\"{:.3e}\".format(val) for val in mergeSortWorst],\n",
    "    [\"{:.3e}\".format(val) for val in selectionSortWorst]\n",
    "]\n",
    "headersWorstCase = (\"Nr elementi\", \"Merge sort\", \"Selection sort\")\n",
    "titleWorstCase = \"Caso peggiore: tempi di esecuzione con lista ordinata inversamente [ms] (Figura 4)\"\n",
    "\n",
    "drawTables(resultWorstCase, headersWorstCase, titleWorstCase)\n",
    "\n",
    "# Generazione tabella: tempi di esecuzione caso medio    \n",
    "resultAverageCase = [\n",
    "    [i for i in range(1, n, block_size)],\n",
    "    [\"{:.3e}\".format(val) for val in mergeSortAverage],\n",
    "    [\"{:.3e}\".format(val) for val in selectionSortAverage]\n",
    "]\n",
    "headersAverageCase = (\"Nr elementi\", \"Merge sort\", \"Selection sort\")\n",
    "titleAverageCase = \"Caso medio: tempi di esecuzione con valori casuali [ms] (Figura 5)\"\n",
    "\n",
    "drawTables(resultAverageCase, headersAverageCase, titleAverageCase)\n",
    "\n",
    "# Generazione tabella: tempi di esecuzione caso migliore    \n",
    "resultBestCase = [\n",
    "    [i for i in range(1, n, block_size)],\n",
    "    [\"{:.3e}\".format(val) for val in mergeSortBest],\n",
    "    [\"{:.3e}\".format(val) for val in selectionSortBest]\n",
    "]\n",
    "headersBestCase = (\"Nr elementi\", \"Merge sort\", \"Selection sort\")\n",
    "titleBestCase = \"Caso migliore: tempi di esecuzione con lista ordinata [ms] (Figura 6)\"\n",
    "\n",
    "drawTables(resultBestCase, headersBestCase, titleBestCase)"
   ]
  },
  {
   "cell_type": "markdown",
   "id": "c290a5a0",
   "metadata": {},
   "source": [
    "## Grafici <a id=\"grafici\"></a>\n",
    "\n",
    "Di seguito vengono generati i grafici. I primi sei mostreranno i due algoritmi nei casi peggiore, migliore e medio. Negli ultimi sei verranno mostrati gli andamenti dei grafici sopra, messi a confronto."
   ]
  },
  {
   "cell_type": "code",
   "execution_count": null,
   "id": "a7dda27e",
   "metadata": {},
   "outputs": [],
   "source": [
    "def tracePlots(left_data, right_data, plot_title: str = None):\n",
    "    x = np.linspace(1, n, len(left_data))\n",
    "    fig, (left, right) = plt.subplots(1, 2, figsize=(15, 5))\n",
    "    \n",
    "    # Selection sort, grafico a sinistra\n",
    "    left.plot(x, left_data, color='red')\n",
    "    left.set_title('Selection Sort')\n",
    "    left.set_xlabel('Dimensione della lista (n)')\n",
    "    left.set_ylabel('Tempo di esecuzione [ms]')\n",
    "    \n",
    "\n",
    "    # Merge sort, grafico a destra\n",
    "    right.plot(x, right_data, color='purple')\n",
    "    right.set_title('Merge Sort')\n",
    "    right.set_xlabel('Dimensione della lista (n)')\n",
    "    right.set_ylabel('Tempo di esecuzione [ms]')\n",
    "    \n",
    "    \n",
    "    if plot_title:\n",
    "        fig.suptitle(plot_title, fontsize=16)\n",
    "\n",
    "        \n",
    "def drawPlotComparison(data1, data2, title_l: str, title_r: str, plots_title: str, subset_size: int):\n",
    "    x = np.linspace(1, n, len(data1))\n",
    "    fig, (left, right) = plt.subplots(1, 2, figsize=(15, 5))\n",
    "    x_subset = x[:subset_size]\n",
    "    data1_subset = data1[:subset_size]\n",
    "    data2_subset = data2[:subset_size]\n",
    "    \n",
    "    # Grafico a sinistra\n",
    "    left.plot(x, data1, color='red', label='Selection Sort')\n",
    "    left.plot(x, data2, color='purple', label='Merge Sort')\n",
    "    left.set_title(title_l)\n",
    "    left.set_xlabel('Dimensione della lista (n)')\n",
    "    left.set_ylabel('Tempo di esecuzione [ms]')\n",
    "    left.legend()\n",
    "    \n",
    "    # Grafico a destra\n",
    "    right.plot(x_subset, data1_subset, color='red', label='Selection Sort')\n",
    "    right.plot(x_subset, data2_subset, color='purple', label='Merge Sort')\n",
    "    right.set_title(title_r)\n",
    "    right.set_xlabel('Dimensione della lista (n)')\n",
    "    right.set_ylabel('Tempo di esecuzione [ms]')\n",
    "    right.legend()\n",
    "    \n",
    "    if plots_title:\n",
    "        fig.suptitle(plots_title, fontsize=16)"
   ]
  },
  {
   "cell_type": "code",
   "execution_count": null,
   "id": "e0f636a0",
   "metadata": {},
   "outputs": [],
   "source": [
    "tracePlots(selectionSortWorst, mergeSortWorst, \"Caso peggiore: array con valori ordinati inversamente (Figura 7)\")"
   ]
  },
  {
   "cell_type": "code",
   "execution_count": null,
   "id": "ec163c1d",
   "metadata": {},
   "outputs": [],
   "source": [
    "tracePlots(selectionSortBest, mergeSortBest, \"Caso migliore: array con valori ordinati (Figura 8)\")"
   ]
  },
  {
   "cell_type": "code",
   "execution_count": null,
   "id": "c102bbf7",
   "metadata": {},
   "outputs": [],
   "source": [
    "tracePlots(selectionSortAverage, mergeSortAverage, \"Caso medio: array con valori casuali (Figura 9)\")"
   ]
  },
  {
   "cell_type": "code",
   "execution_count": null,
   "id": "71fe8ac1",
   "metadata": {},
   "outputs": [],
   "source": [
    "drawPlotComparison(selectionSortWorst, mergeSortWorst, \"Caso peggiore\", \n",
    "                       \"Caso peggiore con input di piccole dimensioni\",\n",
    "                   \"Selection Sort e Merge Sort a confronto: caso peggiore (Figura 10)\", 2)"
   ]
  },
  {
   "cell_type": "code",
   "execution_count": null,
   "id": "5ee0a6af",
   "metadata": {},
   "outputs": [],
   "source": [
    "drawPlotComparison(selectionSortBest, mergeSortBest, \"Caso migliore\", \n",
    "                       \"Caso migliore con input di piccole dimensioni\",\n",
    "                   \"Selection Sort e Merge Sort a confronto: caso migliore (Figura 11)\", 2)"
   ]
  },
  {
   "cell_type": "code",
   "execution_count": null,
   "id": "cac7c9e5",
   "metadata": {},
   "outputs": [],
   "source": [
    "drawPlotComparison(selectionSortAverage, mergeSortAverage, \"Caso medio\", \n",
    "                       \"Caso medio con input di piccole dimensioni\",\n",
    "                   \"Selection Sort e Merge Sort a confronto: caso medio (Figura 12)\", 2)"
   ]
  },
  {
   "cell_type": "markdown",
   "id": "e23ade46",
   "metadata": {},
   "source": [
    "## Conclusioni <a id=\"conclusioni\"></a>\n",
    "\n",
    "Le prestazioni dei due algoritmi di ordinamento, Merge Sort e Selection Sort, sono state valutate mediante la generazione di tabelle e grafici. Questi ultimi evidenziano chiaramente i vantaggi e gli svantaggi di ciascun algoritmo e il loro comportamento al variare della dimensione dei dati da ordinare.\n",
    "<br><br>\n",
    "Avendo fatto la distinzione dei tre casi (migliore, medio e peggiore), abbiamo potuto verificare che i dati in ingresso non influiscono sulle prestazioni, poiché la complessità di entrambi gli algoritmi rimane costante: $\\Theta(nlgn)$ per Merge Sort e $O(n^2)$ per Selection Sort (vd. grafici in Figura 7, Figura 8 e Figura 9). \n",
    "Dunque, i risultati ottenuti, analizzando i grafici e le tabelle, rispecchiano quelli attesi.\n",
    "\n",
    "I grafici di Figura 10, Figura 11 e Figura 12, nei quali viene messo a confronto l'andamento di Merge Sort con quello di Selection Sort nel caso peggiore, migliore e medio, rispettivamente, mostrano che:\n",
    "* per input di dimensioni sufficientemente grandi, la funzione logaritmica cresce più lentamente di qualsiasi funzione lineare; dunque, l'algoritmo Merge Sort è preferibile, in quanto supera le prestazioni del Selection Sort;\n",
    "* per input di piccole dimensioni, invece, risulta l'inverso, dunque si predilige il Selection Sort (cfr. grafico a destra Figura 12)"
   ]
  },
  {
   "cell_type": "markdown",
   "id": "a4b2d9a7",
   "metadata": {},
   "source": [
    "## Bibliografia <a id=\"bibliografia\"></a>\n",
    "\n",
    "* Figura 1: https://www.programiz.com/dsa/merge-sort\n",
    "* Figura 2: https://www.programiz.com/dsa/selection-sort\n",
    "* Figura 3: https://it.wikipedia.org/wiki/Selection_sort"
   ]
  }
 ],
 "metadata": {
  "kernelspec": {
   "display_name": "Python 3 (ipykernel)",
   "language": "python",
   "name": "python3"
  },
  "language_info": {
   "codemirror_mode": {
    "name": "ipython",
    "version": 3
   },
   "file_extension": ".py",
   "mimetype": "text/x-python",
   "name": "python",
   "nbconvert_exporter": "python",
   "pygments_lexer": "ipython3",
   "version": "3.9.12"
  }
 },
 "nbformat": 4,
 "nbformat_minor": 5
}
