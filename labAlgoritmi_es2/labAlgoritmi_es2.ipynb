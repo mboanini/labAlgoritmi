{
 "cells": [
  {
   "cell_type": "markdown",
   "id": "417ba313",
   "metadata": {},
   "source": [
    "<div align=right>Margherita Boanini (7051199) </div>"
   ]
  },
  {
   "cell_type": "markdown",
   "id": "cab57eed",
   "metadata": {},
   "source": [
    "# Laboratorio di Algoritmi\n",
    "## Confronto tra gli algoritmi selection-sort e merge-sort"
   ]
  },
  {
   "cell_type": "markdown",
   "id": "cb0e321f",
   "metadata": {},
   "source": [
    "### Indice\n",
    "* [**Introduzione**](#introduzione)\n",
    "* [**Caratteristiche teoriche degli algoritmi e delle strutture dati utilizzate**](#teoria)\n",
    "    * [Il metodo divide et impera](#divideEtImpera)\n",
    "    * [Merge-sort](#mergeSort)\n",
    "    * [Selection-sort](#selectionSort)\n",
    "* **Esperimenti**\n",
    "* **Tabelle e grafici**\n",
    "* **Analisi**"
   ]
  },
  {
   "cell_type": "markdown",
   "id": "473d3cd9",
   "metadata": {},
   "source": [
    "## Introduzione\n",
    "<a id=\"introduzione\"></a>"
   ]
  },
  {
   "cell_type": "markdown",
   "id": "e397238c",
   "metadata": {},
   "source": [
    "Il problema dell'ordinamento di un insieme è un problema fondamentale nell'ambito dell'informatica e dell'analisi degli algoritmi:<br>\n",
    "> Dato in ingresso un insieme di *n* numeri $\\{a_1, a_2,..., a_n\\}$, trovare in uscita un'opportuna permutazione $\\{a'_1, a'_2,...,a'_n\\}$ tale che $a'_1 \\leq a'_2 \\leq ... \\leq a'_n$.<br> \n",
    "\n",
    "L'obiettivo principale dell'ordinamento è ottenere una rappresentazione ordinata dei dati, facilitando le operazioni di ricerca, confronto e analisi.\n",
    "Esiste una grande quantità di algoritmi che permettono di risolvere tale problema e sebbene siano algoritmi progettati per risolvere lo stesso problema spesso sono notevolemente diversi nella loro efficienza.  <br>\n",
    "\n",
    "In seguito ne esamineremo due in particolare: selection sort e merge sort, con l'obiettivo di verificare i vantaggi e gli svantaggi di entrambi. <br>\n",
    "\n",
    "Nello studio degli algoritmi, andremo ad utilizzare dei moduli Python, importanti da ricordare: <br>\n",
    " - <code>numpy</code>  $\\rightarrow$ utilizzato per generare array con valori casuali utilizzando la funzione <code>numpy.random.randint()</code>\n",
    " - <code>matplotlib</code> $\\rightarrow $ utilizzato per creare grafici e tabelle al fine di analizzare visivamente le prestazioni dei due algoritmi. Le funzioni <code>matplotlib.pyplot.plot()</code> e <code>matplotlib.pyplot.table()</code> sono state impiegate a tale scopo."
   ]
  },
  {
   "cell_type": "markdown",
   "id": "fc06faad",
   "metadata": {},
   "source": [
    "Eseguire il codice sottostante per installarli:"
   ]
  },
  {
   "cell_type": "code",
   "execution_count": 4,
   "id": "9ebe5c14",
   "metadata": {},
   "outputs": [],
   "source": [
    "!pip install numpy --user --quiet\n",
    "!pip install matplotlib --user --quiet"
   ]
  },
  {
   "cell_type": "markdown",
   "id": "4e1e47fc",
   "metadata": {},
   "source": [
    "<br>\n",
    "\n",
    "## Caratteristiche teoriche\n",
    "<a id=\"teoria\"></a>"
   ]
  },
  {
   "cell_type": "markdown",
   "id": "a7f306bc",
   "metadata": {},
   "source": [
    "### Stabilità di un algoritmo\n",
    "Un algoritmo si dice <u>stabile</u> se è in grado di fornire in output risultati attendibili quando l'insieme dei dati in input cambia, sia come valori sia come quantità di dati iniziali e se la propagazione di errori dovuta ai calcoli è limitata e controllabile a priori. Un algoritmo è più stabile di un altro se l'influenza degli errori nel primo è minore che nel secondo. Dunque, la stabilità di un algoritmo dipende dall'alterazione della soluzione in funzione dell'alterazione dei dati iniziali e dalla modalità di propagazione degli errori. Gli algoritmi di ordinamento si ritengono stabili se non alterano l'ordine relativo di oggetti distinti che sono uguali rispetto alla relazione d'ordine.\n",
    "<br>\n",
    "### Correttezza di un algoritmo\n",
    "Un algoritmo si dice <u>corretto</u> se, per ogni istanza di input, termina con l'output giusto. \n",
    "Per dimostrare la correttezza di algoritmi iterativi si usa spesso un invariante di ciclo. Diciamo che un algoritmo corretto risolve il problema computazionale dato.\n",
    "\n",
    "### Complessità di un algoritmo\n",
    "La <u>complessità</u> di un algoritmo rappresenta l'analisi delle risorse impiegate da un algoritmo per risolvere un problema, in funzione della dimensione e del tipo di input. \n",
    "Le risorse considerate principalmente sono il tempo (utilizzato per completare l'algoritmo), lo spazio (la quantità di memoria utilizzata) e la banda (la quantità di bit spediti). Per quanto riguarda la complessità temporale, i diversi algoritmi di ordinamento si differenziano. <br>\n",
    "\n",
    "|Algoritmo|Caso migliore|Caso medio| Caso peggiore|\n",
    "|:---:|:---:|:---:|:---:|\n",
    "|**SelectionSort**| $O(n^2)$ | $O(n^2)$ | $O(n^2)$ |\n",
    "|**InsertionSort**| $O(n)$ | $O(n^2)$ | $O(n^2)$ |\n",
    "|**BubbleSort**| $O(n)$ | $O(n^2)$ | $O(n^2)$ |\n",
    "|**MergeSort** | $O(nlog_2n)$ | $O(nlog_2n)$ | $O(nlog_2n)$ |\n",
    "|**QuickSort** | $O(nlog_2n)$ | $O(nlog_2n)$ | $O(n^2)$ |\n",
    "|**HeapSort** | $O(nlog_2n)$ | $O(nlog_2n)$ | $O(nlog_2n)$ |\n",
    "\n",
    "<br>\n",
    "Il problema di ordinare una sequenza di *n* elementi ha una delimitazione inferiore di complessità pari a $nlog_2(n)$. Algoritmi ottimi sono di tipo $O(nlog_2(n))$. <br>"
   ]
  },
  {
   "cell_type": "markdown",
   "id": "373bf8e8",
   "metadata": {},
   "source": [
    "### Il metodo divide et impera\n",
    "<a id=\"divideEtImpera\"></a>"
   ]
  },
  {
   "cell_type": "markdown",
   "id": "00037015",
   "metadata": {},
   "source": [
    " Gli algoritmi ricorsivi sono algoritmi che chiamano sé stessi in modo ricorsivo, una o più volte, per trattare sottoproblemi dello stesso tipo e risolvere così un determinato problema. Gli algoritmi ricorsivi, generalmente, adottano un approccio **divide et impera**, che prevede tre passi a ogni livello di ricorsione:\n",
    " - Divide: il problema viene diviso in un certo numero di sottoproblemi, che sono istanze più piccole dello stesso problema. \n",
    " - Impera: i sottoproblemi vengono risolti in modo ricorsivo; quando i sottoproblemi hanno una dimensione sufficientemente piccola, essi vengono risolti direttamente.\n",
    " - Combina: le soluzioni dei sottoproblemi vengono combinate per generare la soluzione del problema originale. "
   ]
  },
  {
   "cell_type": "markdown",
   "id": "0117158e",
   "metadata": {},
   "source": [
    "<br>\n",
    "\n",
    "### Merge Sort\n",
    "<a id=\"mergeSort\"></a>"
   ]
  },
  {
   "cell_type": "markdown",
   "id": "c4b0ab8f",
   "metadata": {},
   "source": [
    "L'algoritmo **merge sort** è conforme al paradigma divide et impera. Opera nel modo seguente:\n",
    "- Divide: divide la sequenza degli $n$ elementi da ordinare, $A[p...r]$ in due sottosequenze di $n/2$ elementi ciascuna, $A[p...q]$ e $A[q+1...r]$, dove $q$ è il punto di mezzo di $A[p..r]$.\n",
    "- Impera: ordina le due sottosequenze, $A[p...q]$ e $A[q+1...r]$, in modo ricorsivo utilizzando l'algoritmo merge sort.\n",
    "- Combina: fonde le due sottosequenze ordinate, $A[p...q]$ e $A[q+1...r]$, per generare una singola sequenza ordinata, $A[p...r]$. \n",
    "\n",
    "La ricorsione si ferma quando la sequenza da ordinare ha lunghezza 1, poiché una sequenza di tale lunghezza è già ordinata. \n",
    "L'operazione chiave dell'algoritmo merge sort è la fusione delle due sottosequenze ordinate nel passo \"combina\". Per effettuare la fusione utilizziamo una procedura ausiliaria $MERGE(A,p,q,r)$, dove $A$ è un array e $p,q$ e $r$ sono indici dell'array tali che $p\\leq q<r$. La procedura assume che i sottoarray $A[p..q]$ e $A[q+1..r]$ siano ordinati; li fonde per formare un unico sottoarray ordinato che sostituisce il sottoarray corrente $A[p..r]$. \n",
    "\n",
    "La procedura $MERGE$ impiega un tempo $\\Theta(n)$ dove $n = r-p+1$ è il numero totale di elementi da fondere."
   ]
  },
  {
   "cell_type": "code",
   "execution_count": 2,
   "id": "cd633daa",
   "metadata": {},
   "outputs": [],
   "source": [
    "# Implementazione di Merge Sort\n",
    " \n",
    "# Fonde i due sottoarray di A[].\n",
    "# Il primo sottoarray è A[p..q]\n",
    "# Il secondo sottoarray è A[q+1..r]\n",
    " \n",
    " \n",
    "def merge(A, p, q, r):\n",
    "    n1 = q - p + 1\n",
    "    n2 = r - q\n",
    " \n",
    "    # crea due array temporanei\n",
    "    L = [0] * (n1)\n",
    "    R = [0] * (n2)\n",
    " \n",
    "    # Copia i dati negli array L[] e R[]\n",
    "    for i in range(0, n1):\n",
    "        L[i] = A[p + i]\n",
    " \n",
    "    for j in range(0, n2):\n",
    "        R[j] = A[q + 1 + j]\n",
    " \n",
    "    # Fonde gli array temporanei in A[p..r]\n",
    "    i = 0\n",
    "    j = 0     \n",
    "    k = p\n",
    " \n",
    "    while i < n1 and j < n2:\n",
    "        if L[i] <= R[j]:\n",
    "            A[k] = L[i]\n",
    "            i += 1\n",
    "        else:\n",
    "            A[k] = R[j]\n",
    "            j += 1\n",
    "        k += 1\n",
    " \n",
    "    # Copia gli elementi rimanenti di L[], se ce ne sono\n",
    "    while i < n1:\n",
    "        A[k] = L[i]\n",
    "        i += 1\n",
    "        k += 1\n",
    " \n",
    "    # Copia gli elementi rimanenti di R[], se ce ne sono\n",
    "    while j < n2:\n",
    "        A[k] = R[j]\n",
    "        j += 1\n",
    "        k += 1\n",
    "\n",
    " \n",
    "def mergeSort(A, p, r):\n",
    "    if p < r:\n",
    "        q= p+(r-p)//2\n",
    " \n",
    "        mergeSort(A, p, q)\n",
    "        mergeSort(A, q + 1, r)\n",
    "        merge(A, p, q, r)"
   ]
  },
  {
   "cell_type": "markdown",
   "id": "f9c9b3f9",
   "metadata": {},
   "source": [
    "In pratica: si spezza l'array in due parti di ugual dimensione, si ordinano separatamente queste due parti (chiamata ricorsiva), si fondono i due sottoarray ordinati così ottenuti in modo da ottenere un unico array ordinato. Il punto cruciale è l'algoritmo di fusione.\n"
   ]
  },
  {
   "cell_type": "markdown",
   "id": "be63e8a2",
   "metadata": {},
   "source": [
    "#### Correttezza\n",
    "\n",
    "Si può dimostrare la correttezza di Merge Sort per induzione su $n$. Se $n=2$ è corretto. Supponiamo che sia corretto per tutti gli array con meno di $n$ elementi. Sia A un array con $n>1$ elementi ed eseguiamo l'algoritmo. Le due chiamate agiscono su un numero di elementi che è circa la metà di $n$, quindi per queste chiamate vale l'ipotesi induttiva: i due sottoarray sono ordinati al termine dell'esecuzione. Inoltre, per la correttezza della procedura MERGE possiamo utilizzare l'invariante di ciclo."
   ]
  },
  {
   "cell_type": "markdown",
   "id": "3b14760b",
   "metadata": {},
   "source": [
    "#### Stabilità\n",
    "Merge Sort è un algoritmo stabile. Quando ci sono elementi con la stessa chiave infatti, Merge Sort assegna loro posizioni nell'array ordinato che rispettano l'ordine in cui compaiono nell'array di input. \n"
   ]
  },
  {
   "cell_type": "markdown",
   "id": "54940d8d",
   "metadata": {},
   "source": [
    "#### Complessità\n",
    "L'algoritmo merge sort, per ordinare una sequenza di $n$ elementi, ha complessità temporale $T(n) = \\Theta(nlogn)$ sia nel caso medio che nel caso peggiore. Infatti:\n",
    "- la funzione MERGE ha complessità temporale $\\Theta(n)$:\n",
    "    oltre alle righe in cui si ha un tempo costante, vi sono solo i due cicli for, che servono per copiare il sottoarray $A[p..q]$ in $L[0..n_1-1]$ e il sottoarray $A[q+1..r]$ in $R[0..n_2-1]$, che impiegano un tempo $\\Theta(n_1+n_2) = \\Theta(n)$.\n",
    "- MERGESORT invece richiama se stessa due volte e ogni volta su (circa) metà della sequenza in input.\n",
    "\n",
    "Dunque il tempo di esecuzione dell'algoritmo è dato dalla ricorrenza: \n",
    "    $T(n) =\\left \\{ \\begin{array}{rl}\n",
    "    \\Theta(1)\\ \\ \\ \\ \\ \\ \\ \\ \\ \\ \\ \\ \\ \\ \\ \\ \\ \\ \\ se\\ n=1\\\\\n",
    "    2T(n/2) + \\Theta(n)\\ \\ \\ se\\ n>1\n",
    "    \\end{array}\n",
    "    \\right.$\n",
    "\n",
    "<br>\n",
    "Grazie al \"teorema dell'esperto\" si può dimostrare che $T(n)$ è $\\Theta(nlgn)$.\n",
    "La funzione logaritmica cresce più lentamente di qualsiasi funzione lineare, per input sufficientemente grandi. Dunque, l'algoritmo mergesort, con il suo tempo di esecuzione $\\Theta(nlgn)$, supera le prestazioni di molti algoritmi di ordinamento, come Selection Sort. Cosa che però risulterà inversa nel caso di input di piccole dimensioni. \n"
   ]
  },
  {
   "cell_type": "markdown",
   "id": "00bf913d",
   "metadata": {},
   "source": [
    "### Selection Sort\n",
    "<a id=\"selectionSort\"></a>"
   ]
  },
  {
   "cell_type": "markdown",
   "id": "8c25b748",
   "metadata": {},
   "source": [
    "Selection Sort è un algoritmo di ordinamento che ordina un array cercando ripetutamente l'elemento minimo (considerando l'ordine crescente)  dalla parte non ordinata e ponendolo all'inizio. L'algoritmo mantiene due sottoarray in un dato array. \n",
    "Selection Sort è un algoritmo di ordinamento che seleziona l'elemento più piccolo da una lista non ordinata in ogni iterazione e posiziona quell'elemento all'inizio della lista non ordinata.\n",
    "\n",
    "<u>Funzionamento</u>:\n",
    "1. Imposta il primo elemento come <code>minimum</code>\n",
    "\n",
    "2. Confronta il <code>minimum</code> con il secondo elemento. Se il secondo elemento è minore del <code>minimum</code>, imposta il secondo elemento come <code>minimum</code>. \n",
    "    Confronta il <code>minimum</code> con il terzo elemento. Di nuovo, se il terzo elemento è minore, allora assegna il <code>minimum</code> al terzo elemento, altrimenti non fare nulla. Il processo va avanti fino all'ultimo elemento.\n",
    "3. Dopo ogni iterazione, il <code>minimum</code> è posizionato in cima alla lista non ordinata.\n",
    "4. Per ogni iterazione, l'indicizzazione inizia dal primo elemento non ordinato. I passaggi dal primo al terzo sono ripetuti finché tutti gli elementi non sono posizionati nella loro posizione corretta."
   ]
  },
  {
   "cell_type": "code",
   "execution_count": 3,
   "id": "b411c9e9",
   "metadata": {},
   "outputs": [],
   "source": [
    "# Implementazione del selection Sort\n",
    "def selectionSort(array, size):\n",
    "   \n",
    "    for step in range(size):\n",
    "        min_idx = step\n",
    "\n",
    "        for i in range(step + 1, size):\n",
    "         \n",
    "            # to sort in descending order, change > to < in this line\n",
    "            # select the minimum element in each loop\n",
    "            if array[i] < array[min_idx]:\n",
    "                min_idx = i\n",
    "         \n",
    "        # put min at the correct position\n",
    "        (array[step], array[min_idx]) = (array[min_idx], array[step])"
   ]
  },
  {
   "cell_type": "code",
   "execution_count": null,
   "id": "06981bba",
   "metadata": {},
   "outputs": [],
   "source": []
  },
  {
   "cell_type": "code",
   "execution_count": null,
   "id": "d8ab25ff",
   "metadata": {},
   "outputs": [],
   "source": []
  },
  {
   "cell_type": "markdown",
   "id": "ff9a5cf8",
   "metadata": {},
   "source": []
  },
  {
   "cell_type": "code",
   "execution_count": null,
   "id": "7c5b3249",
   "metadata": {},
   "outputs": [],
   "source": []
  },
  {
   "cell_type": "markdown",
   "id": "461edbd4",
   "metadata": {},
   "source": [
    "<br>\n",
    "\n",
    "## Test"
   ]
  },
  {
   "cell_type": "markdown",
   "id": "d43e36f2",
   "metadata": {},
   "source": []
  }
 ],
 "metadata": {
  "kernelspec": {
   "display_name": "Python 3 (ipykernel)",
   "language": "python",
   "name": "python3"
  },
  "language_info": {
   "codemirror_mode": {
    "name": "ipython",
    "version": 3
   },
   "file_extension": ".py",
   "mimetype": "text/x-python",
   "name": "python",
   "nbconvert_exporter": "python",
   "pygments_lexer": "ipython3",
   "version": "3.9.12"
  }
 },
 "nbformat": 4,
 "nbformat_minor": 5
}
